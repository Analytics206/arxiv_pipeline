{
 "cells": [
  {
   "cell_type": "markdown",
   "id": "22291969",
   "metadata": {},
   "source": [
    "# 📊 Deep Research Analysis: MongoDB + Neo4j + Qdrant\n",
    "This notebook demonstrates advanced data science analysis using:\n",
    "- MongoDB for metadata storage\n",
    "- Neo4j for graph analysis (e.g., authorship, categories)\n",
    "- Qdrant for semantic similarity (vector search)\n",
    "\n",
    "**Key Goals:**\n",
    "1. Semantic clustering of document embeddings (Qdrant)\n",
    "2. Influence ranking via graph analytics (Neo4j)\n",
    "3. Metadata filtering and cross-source reporting (MongoDB)\n"
   ]
  },
  {
   "cell_type": "code",
   "execution_count": 2,
   "id": "fdd21210",
   "metadata": {},
   "outputs": [
    {
     "ename": "ModuleNotFoundError",
     "evalue": "No module named 'umap'",
     "output_type": "error",
     "traceback": [
      "\u001b[31m---------------------------------------------------------------------------\u001b[39m",
      "\u001b[31mModuleNotFoundError\u001b[39m                       Traceback (most recent call last)",
      "\u001b[36mCell\u001b[39m\u001b[36m \u001b[39m\u001b[32mIn[2]\u001b[39m\u001b[32m, line 11\u001b[39m\n\u001b[32m      9\u001b[39m \u001b[38;5;28;01mimport\u001b[39;00m\u001b[38;5;250m \u001b[39m\u001b[34;01mpandas\u001b[39;00m\u001b[38;5;250m \u001b[39m\u001b[38;5;28;01mas\u001b[39;00m\u001b[38;5;250m \u001b[39m\u001b[34;01mpd\u001b[39;00m\n\u001b[32m     10\u001b[39m \u001b[38;5;28;01mimport\u001b[39;00m\u001b[38;5;250m \u001b[39m\u001b[34;01mnumpy\u001b[39;00m\u001b[38;5;250m \u001b[39m\u001b[38;5;28;01mas\u001b[39;00m\u001b[38;5;250m \u001b[39m\u001b[34;01mnp\u001b[39;00m\n\u001b[32m---> \u001b[39m\u001b[32m11\u001b[39m \u001b[38;5;28;01mimport\u001b[39;00m\u001b[38;5;250m \u001b[39m\u001b[34;01mumap\u001b[39;00m\n\u001b[32m     12\u001b[39m \u001b[38;5;28;01mimport\u001b[39;00m\u001b[38;5;250m \u001b[39m\u001b[34;01mhdbscan\u001b[39;00m\n\u001b[32m     13\u001b[39m \u001b[38;5;28;01mimport\u001b[39;00m\u001b[38;5;250m \u001b[39m\u001b[34;01mmatplotlib\u001b[39;00m\u001b[34;01m.\u001b[39;00m\u001b[34;01mpyplot\u001b[39;00m\u001b[38;5;250m \u001b[39m\u001b[38;5;28;01mas\u001b[39;00m\u001b[38;5;250m \u001b[39m\u001b[34;01mplt\u001b[39;00m\n",
      "\u001b[31mModuleNotFoundError\u001b[39m: No module named 'umap'"
     ]
    }
   ],
   "source": [
    "\n",
    "# Install required packages if needed\n",
    "# !pip install pymongo neo4j qdrant-client umap-learn hdbscan pandas matplotlib\n",
    "\n",
    "from pymongo import MongoClient\n",
    "from neo4j import GraphDatabase\n",
    "from qdrant_client import QdrantClient\n",
    "from qdrant_client.models import Filter, FieldCondition, MatchValue\n",
    "\n",
    "import pandas as pd\n",
    "import numpy as np\n",
    "import umap\n",
    "import hdbscan\n",
    "import matplotlib.pyplot as plt\n",
    "\n",
    "from sklearn.preprocessing import MinMaxScaler\n",
    "\n",
    "# MongoDB connection (adjust URI)\n",
    "mongo_client = MongoClient('mongodb://localhost:27017')\n",
    "mongo_db = mongo_client['deep_research']\n",
    "mongo_collection = mongo_db['papers']\n",
    "\n",
    "# Neo4j connection (adjust credentials)\n",
    "neo4j_driver = GraphDatabase.driver(\"bolt://localhost:7687\", auth=(\"neo4j\", \"password\"))\n",
    "\n",
    "# Qdrant connection\n",
    "qdrant = QdrantClient(host=\"localhost\", port=6333)\n",
    "collection_name = \"papers\"\n"
   ]
  },
  {
   "cell_type": "code",
   "execution_count": null,
   "id": "4a9bbd6a",
   "metadata": {},
   "outputs": [],
   "source": [
    "\n",
    "# Load basic metadata\n",
    "mongo_docs = list(mongo_collection.find({}, {\n",
    "    \"paper_id\": 1,\n",
    "    \"category\": 1,\n",
    "    \"processed_date\": 1,\n",
    "    \"summary_length\": 1\n",
    "}))\n",
    "\n",
    "mongo_df = pd.DataFrame(mongo_docs)\n",
    "print(mongo_df.head())\n"
   ]
  },
  {
   "cell_type": "code",
   "execution_count": null,
   "id": "ec688849",
   "metadata": {},
   "outputs": [],
   "source": [
    "\n",
    "# Fetch paper PageRank scores and authorship info from Neo4j\n",
    "def get_paper_ranks(tx):\n",
    "    query = \"\"\"\n",
    "    CALL gds.pageRank.stream({\n",
    "        nodeProjection: 'Paper',\n",
    "        relationshipProjection: 'CITES',\n",
    "        maxIterations: 20,\n",
    "        dampingFactor: 0.85\n",
    "    })\n",
    "    YIELD nodeId, score\n",
    "    RETURN gds.util.asNode(nodeId).paper_id AS paper_id, score\n",
    "    \"\"\"\n",
    "    result = tx.run(query)\n",
    "    return pd.DataFrame([r.data() for r in result])\n",
    "\n",
    "with neo4j_driver.session() as session:\n",
    "    pagerank_df = session.read_transaction(get_paper_ranks)\n",
    "\n",
    "print(pagerank_df.head())\n"
   ]
  },
  {
   "cell_type": "code",
   "execution_count": null,
   "id": "2126998a",
   "metadata": {},
   "outputs": [],
   "source": [
    "\n",
    "# Retrieve all document vectors and metadata\n",
    "qdrant_data = qdrant.scroll(\n",
    "    collection_name=collection_name,\n",
    "    with_payload=True,\n",
    "    with_vectors=True,\n",
    "    limit=1000\n",
    ")\n",
    "\n",
    "records = []\n",
    "for point in qdrant_data[0]:\n",
    "    paper_id = point.id\n",
    "    vector = point.vector\n",
    "    metadata = point.payload\n",
    "    records.append({\n",
    "        \"paper_id\": paper_id,\n",
    "        \"vector\": vector,\n",
    "        \"creator\": metadata.get(\"creator\", \"\"),\n",
    "        \"producer\": metadata.get(\"producer\", \"\"),\n",
    "        \"title\": metadata.get(\"title\", \"\"),\n",
    "        \"total_pages\": int(metadata.get(\"total_pages\", 0))\n",
    "    })\n",
    "\n",
    "qdrant_df = pd.DataFrame(records)\n",
    "print(qdrant_df.head())\n"
   ]
  },
  {
   "cell_type": "code",
   "execution_count": null,
   "id": "3753b3c9",
   "metadata": {},
   "outputs": [],
   "source": [
    "\n",
    "# Prepare embeddings\n",
    "X = np.array(qdrant_df[\"vector\"].tolist())\n",
    "\n",
    "# Dimensionality reduction\n",
    "reducer = umap.UMAP(n_neighbors=15, min_dist=0.1, metric='cosine')\n",
    "X_umap = reducer.fit_transform(X)\n",
    "\n",
    "# Clustering\n",
    "clusterer = hdbscan.HDBSCAN(min_cluster_size=10, prediction_data=True)\n",
    "labels = clusterer.fit_predict(X_umap)\n",
    "\n",
    "qdrant_df['x'] = X_umap[:,0]\n",
    "qdrant_df['y'] = X_umap[:,1]\n",
    "qdrant_df['cluster'] = labels\n"
   ]
  },
  {
   "cell_type": "code",
   "execution_count": null,
   "id": "19aabcd9",
   "metadata": {},
   "outputs": [],
   "source": [
    "\n",
    "# Merge Qdrant, MongoDB, and Neo4j results\n",
    "merged_df = qdrant_df.merge(mongo_df, on=\"paper_id\", how=\"left\")\n",
    "merged_df = merged_df.merge(pagerank_df, on=\"paper_id\", how=\"left\")\n",
    "merged_df['score'] = merged_df['score'].fillna(0)\n",
    "\n",
    "print(merged_df.head())\n"
   ]
  },
  {
   "cell_type": "code",
   "execution_count": null,
   "id": "c26a9741",
   "metadata": {},
   "outputs": [],
   "source": [
    "\n",
    "# Plot semantic clusters with PageRank score as size\n",
    "plt.figure(figsize=(12, 8))\n",
    "scaler = MinMaxScaler()\n",
    "sizes = scaler.fit_transform(merged_df[['score']].fillna(0)) * 500\n",
    "\n",
    "scatter = plt.scatter(\n",
    "    merged_df['x'], merged_df['y'],\n",
    "    c=merged_df['cluster'], cmap='Spectral', s=sizes.flatten() + 10, alpha=0.6\n",
    ")\n",
    "plt.colorbar(label='Cluster ID')\n",
    "plt.title(\"Semantic Clusters with Influence (PageRank)\")\n",
    "plt.xlabel(\"UMAP 1\")\n",
    "plt.ylabel(\"UMAP 2\")\n",
    "plt.grid(True)\n",
    "plt.show()\n"
   ]
  }
 ],
 "metadata": {
  "kernelspec": {
   "display_name": ".venv",
   "language": "python",
   "name": "python3"
  },
  "language_info": {
   "codemirror_mode": {
    "name": "ipython",
    "version": 3
   },
   "file_extension": ".py",
   "mimetype": "text/x-python",
   "name": "python",
   "nbconvert_exporter": "python",
   "pygments_lexer": "ipython3",
   "version": "3.13.3"
  }
 },
 "nbformat": 4,
 "nbformat_minor": 5
}
