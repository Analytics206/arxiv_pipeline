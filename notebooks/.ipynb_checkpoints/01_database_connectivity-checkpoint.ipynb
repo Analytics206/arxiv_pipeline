{
 "cells": [
  {
   "cell_type": "markdown",
   "metadata": {},
   "source": [
    "# ArXiv Pipeline Database Connectivity Testing\n",
    "\n",
    "This notebook provides functionality to test connections to all databases used in the ArXiv Pipeline project:\n",
    "- MongoDB (document storage)\n",
    "- Neo4j (graph database)\n",
    "- Qdrant (vector database)\n",
    "\n",
    "Use this notebook to verify that all database connections are working properly and to explore basic database operations."
   ]
  },
  {
   "cell_type": "markdown",
   "metadata": {},
   "source": [
    "## Environment Setup\n",
    "\n",
    "First, we'll install required packages if they're not already available and import necessary libraries."
   ]
  },
  {
   "cell_type": "code",
   "execution_count": null,
   "metadata": {},
   "source": [
    "# Install required packages if not available\n",
    "import sys\n",
    "import subprocess\n",
    "\n",
    "def install_package(package):\n",
    "    subprocess.check_call([sys.executable, \"-m\", \"pip\", \"install\", package])\n",
    "\n",
    "required_packages = [\n",
    "    'pymongo',\n",
    "    'neo4j',\n",
    "    'qdrant-client',\n",
    "    'pandas',\n",
    "    'matplotlib',\n",
    "    'ipywidgets',\n",
    "    'python-dotenv'\n",
    "]\n",
    "\n",
    "for package in required_packages:\n",
    "    try:\n",
    "        __import__(package)\n",
    "        print(f\"✅ {package} is already installed\")\n",
    "    except ImportError:\n",
    "        print(f\"📦 Installing {package}...\")\n",
    "        install_package(package)\n",
    "        print(f\"✅ {package} installed successfully\")"
   ]
  },
  {
   "cell_type": "code",
   "execution_count": null,
   "metadata": {},
   "source": [
    "# Import required libraries\n",
    "import os\n",
    "import json\n",
    "from datetime import datetime\n",
    "import pandas as pd\n",
    "import matplotlib.pyplot as plt\n",
    "from pymongo import MongoClient\n",
    "from neo4j import GraphDatabase\n",
    "from qdrant_client import QdrantClient\n",
    "from dotenv import load_dotenv\n",
    "\n",
    "# Load environment variables from .env file (if present)\n",
    "load_dotenv()\n",
    "\n",
    "# Set Matplotlib config\n",
    "%matplotlib inline\n",
    "plt.style.use('ggplot')"
   ]
  },
  {
   "cell_type": "markdown",
   "metadata": {},
   "source": [
    "## Configuration\n",
    "\n",
    "We'll set up default connection parameters and allow for customization via environment variables."
   ]
  },
  {
   "cell_type": "code",
   "execution_count": null,
   "metadata": {},
   "source": [
    "# MongoDB Configuration\n",
    "MONGO_URI = os.getenv(\"MONGO_URI\", \"mongodb://localhost:27017/\")\n",
    "MONGO_DB = os.getenv(\"MONGO_DB\", \"arxiv_pipeline\")\n",
    "\n",
    "# Neo4j Configuration\n",
    "NEO4J_URI = os.getenv(\"NEO4J_URI\", \"bolt://localhost:7687\")\n",
    "NEO4J_USER = os.getenv(\"NEO4J_USER\", \"neo4j\")\n",
    "NEO4J_PASSWORD = os.getenv(\"NEO4J_PASSWORD\", \"password\")\n",
    "\n",
    "# Qdrant Configuration\n",
    "QDRANT_URI = os.getenv(\"QDRANT_URI\", \"localhost\")\n",
    "QDRANT_PORT = int(os.getenv(\"QDRANT_PORT\", \"6333\"))\n",
    "\n",
    "print(\"Current configurations:\")\n",
    "print(f\"MongoDB URI: {MONGO_URI}\")\n",
    "print(f\"MongoDB Database: {MONGO_DB}\")\n",
    "print(f\"Neo4j URI: {NEO4J_URI}\")\n",
    "print(f\"Neo4j User: {NEO4J_USER}\")\n",
    "print(f\"Qdrant URI: {QDRANT_URI}:{QDRANT_PORT}\")"
   ]
  },
  {
   "cell_type": "markdown",
   "metadata": {},
   "source": [
    "## 1. MongoDB Connectivity Test\n",
    "\n",
    "Let's test the connection to MongoDB, which is used for storing paper metadata and other structured data."
   ]
  },
  {
   "cell_type": "code",
   "execution_count": null,
   "metadata": {},
   "source": [
    "def test_mongodb_connection():\n",
    "    \"\"\"Test connection to MongoDB and return client if successful\"\"\"\n",
    "    try:\n",
    "        # Create a MongoDB client\n",
    "        client = MongoClient(MONGO_URI, serverSelectionTimeoutMS=5000)\n",
    "        \n",
    "        # Force a connection to verify it works\n",
    "        server_info = client.server_info()\n",
    "        \n",
    "        print(f\"✅ Successfully connected to MongoDB\")\n",
    "        print(f\"Server version: {server_info.get('version')}\")\n",
    "        print(f\"Server: {server_info.get('sysInfo', {}).get('hostInfo', {}).get('system', '')}\")\n",
    "        \n",
    "        return client\n",
    "    except Exception as e:\n",
    "        print(f\"❌ Failed to connect to MongoDB: {e}\")\n",
    "        return None\n",
    "\n",
    "# Test MongoDB connection\n",
    "mongo_client = test_mongodb_connection()"
   ]
  },
  {
   "cell_type": "code",
   "execution_count": null,
   "metadata": {},
   "source": [
    "# If connection was successful, list available databases and collections\n",
    "if mongo_client:\n",
    "    try:\n",
    "        # List databases\n",
    "        print(\"Available databases:\")\n",
    "        databases = mongo_client.list_database_names()\n",
    "        for db in databases:\n",
    "            print(f\"- {db}\")\n",
    "        \n",
    "        # Access the ArXiv database and list collections\n",
    "        if MONGO_DB in databases:\n",
    "            db = mongo_client[MONGO_DB]\n",
    "            print(f\"\\nCollections in '{MONGO_DB}' database:\")\n",
    "            collections = db.list_collection_names()\n",
    "            for collection in collections:\n",
    "                print(f\"- {collection} ({db[collection].count_documents({})} documents)\")\n",
    "        else:\n",
    "            print(f\"\\nDatabase '{MONGO_DB}' not found. This might be expected if you haven't run the pipeline yet.\")\n",
    "    except Exception as e:\n",
    "        print(f\"Error exploring MongoDB: {e}\")"
   ]
  },
  {
   "cell_type": "markdown",
   "metadata": {},
   "source": [
    "## 2. Neo4j Connectivity Test\n",
    "\n",
    "Now, let's test the connection to Neo4j, which is used for graph representation of papers, authors, and categories."
   ]
  },
  {
   "cell_type": "code",
   "execution_count": null,
   "metadata": {},
   "source": [
    "def test_neo4j_connection():\n",
    "    \"\"\"Test connection to Neo4j and return driver if successful\"\"\"\n",
    "    try:\n",
    "        # Create a Neo4j driver instance\n",
    "        driver = GraphDatabase.driver(NEO4J_URI, auth=(NEO4J_USER, NEO4J_PASSWORD))\n",
    "        \n",
    "        # Verify connection by running a simple query\n",
    "        with driver.session() as session:\n",
    "            result = session.run(\"RETURN 'Connection successful' AS message, 1 AS test_value\")\n",
    "            record = result.single()\n",
    "            print(f\"✅ {record['message']} to Neo4j\")\n",
    "            \n",
    "            # Get Neo4j version\n",
    "            version_result = session.run(\"CALL dbms.components() YIELD name, versions, edition RETURN name, versions, edition\")\n",
    "            version_record = version_result.single()\n",
    "            print(f\"Neo4j version: {version_record['versions'][0]} {version_record['edition']}\")\n",
    "        \n",
    "        return driver\n",
    "    except Exception as e:\n",
    "        print(f\"❌ Failed to connect to Neo4j: {e}\")\n",
    "        return None\n",
    "\n",
    "# Test Neo4j connection\n",
    "neo4j_driver = test_neo4j_connection()"
   ]
  },
  {
   "cell_type": "code",
   "execution_count": null,
   "metadata": {},
   "source": [
    "# If connection was successful, get database statistics\n",
    "if neo4j_driver:\n",
    "    try:\n",
    "        with neo4j_driver.session() as session:\n",
    "            # Count nodes by label\n",
    "            node_count_query = \"\"\"\n",
    "            MATCH (n)\n",
    "            RETURN labels(n) AS label, count(n) AS count\n",
    "            ORDER BY count DESC\n",
    "            \"\"\"\n",
    "            node_counts = session.run(node_count_query)\n",
    "            \n",
    "            print(\"Node counts by type:\")\n",
    "            node_data = []\n",
    "            for record in node_counts:\n",
    "                label = record[\"label\"][0] if record[\"label\"] else \"(no label)\"\n",
    "                count = record[\"count\"]\n",
    "                print(f\"- {label}: {count} nodes\")\n",
    "                node_data.append({\"Label\": label, \"Count\": count})\n",
    "            \n",
    "            # Count relationships by type\n",
    "            rel_count_query = \"\"\"\n",
    "            MATCH ()-[r]-()\n",
    "            RETURN type(r) AS type, count(r) AS count\n",
    "            ORDER BY count DESC\n",
    "            \"\"\"\n",
    "            rel_counts = session.run(rel_count_query)\n",
    "            \n",
    "            print(\"\\nRelationship counts by type:\")\n",
    "            rel_data = []\n",
    "            for record in rel_counts:\n",
    "                rel_type = record[\"type\"] if record[\"type\"] else \"(no type)\"\n",
    "                count = record[\"count\"]\n",
    "                print(f\"- {rel_type}: {count} relationships\")\n",
    "                rel_data.append({\"Type\": rel_type, \"Count\": count})\n",
    "            \n",
    "            # Create DataFrames for visualization if data exists\n",
    "            if node_data:\n",
    "                node_df = pd.DataFrame(node_data)\n",
    "                plt.figure(figsize=(10, 6))\n",
    "                plt.bar(node_df['Label'], node_df['Count'])\n",
    "                plt.title('Node Counts by Type')\n",
    "                plt.xticks(rotation=45)\n",
    "                plt.tight_layout()\n",
    "                plt.show()\n",
    "            \n",
    "            if rel_data:\n",
    "                rel_df = pd.DataFrame(rel_data)\n",
    "                plt.figure(figsize=(10, 6))\n",
    "                plt.bar(rel_df['Type'], rel_df['Count'])\n",
    "                plt.title('Relationship Counts by Type')\n",
    "                plt.xticks(rotation=45)\n",
    "                plt.tight_layout()\n",
    "                plt.show()\n",
    "    except Exception as e:\n",
    "        print(f\"Error exploring Neo4j: {e}\")"
   ]
  },
  {
   "cell_type": "markdown",
   "metadata": {},
   "source": [
    "## 3. Qdrant Connectivity Test\n",
    "\n",
    "Finally, let's test the connection to Qdrant, which is used for vector embeddings and semantic search."
   ]
  },
  {
   "cell_type": "code",
   "execution_count": null,
   "metadata": {},
   "source": [
    "def test_qdrant_connection():\n",
    "    \"\"\"Test connection to Qdrant and return client if successful\"\"\"\n",
    "    try:\n",
    "        # Create a Qdrant client\n",
    "        client = QdrantClient(host=QDRANT_URI, port=QDRANT_PORT)\n",
    "        \n",
    "        # Check connection by getting service health\n",
    "        health = client.http.health()\n",
    "        \n",
    "        if health and health.get('status') == 'ok':\n",
    "            print(f\"✅ Successfully connected to Qdrant\")\n",
    "            print(f\"Server status: {health.get('status')}\")\n",
    "            \n",
    "            # Get Qdrant version\n",
    "            version = client.get_version()\n",
    "            print(f\"Qdrant version: {version}\")\n",
    "            \n",
    "            return client\n",
    "        else:\n",
    "            print(f\"❌ Connected to Qdrant but health check failed: {health}\")\n",
    "            return None\n",
    "    except Exception as e:\n",
    "        print(f\"❌ Failed to connect to Qdrant: {e}\")\n",
    "        return None\n",
    "\n",
    "# Test Qdrant connection\n",
    "qdrant_client = test_qdrant_connection()"
   ]
  },
  {
   "cell_type": "code",
   "execution_count": null,
   "metadata": {},
   "source": [
    "# If connection was successful, list collections\n",
    "if qdrant_client:\n",
    "    try:\n",
    "        # List collections\n",
    "        collections = qdrant_client.get_collections().collections\n",
    "        \n",
    "        if collections:\n",
    "            print(\"Available collections:\")\n",
    "            for collection in collections:\n",
    "                print(f\"- {collection.name}\")\n",
    "                \n",
    "                # Get collection info\n",
    "                try:\n",
    "                    collection_info = qdrant_client.get_collection(collection.name)\n",
    "                    print(f\"  - Vector size: {collection_info.config.params.vectors.size}\")\n",
    "                    print(f\"  - Distance: {collection_info.config.params.vectors.distance}\")\n",
    "                    print(f\"  - Points count: {collection_info.vectors_count}\")\n",
    "                except Exception as e:\n",
    "                    print(f\"  - Error getting collection info: {e}\")\n",
    "        else:\n",
    "            print(\"No collections found. This might be expected if you haven't added vector embeddings yet.\")\n",
    "            \n",
    "    except Exception as e:\n",
    "        print(f\"Error exploring Qdrant: {e}\")"
   ]
  },
  {
   "cell_type": "markdown",
   "metadata": {},
   "source": [
    "## Connection Status Summary\n",
    "\n",
    "Let's summarize our database connection tests."
   ]
  },
  {
   "cell_type": "code",
   "execution_count": null,
   "metadata": {},
   "source": [
    "# Create a summary of database connections\n",
    "connection_status = {\n",
    "    \"MongoDB\": \"Connected\" if mongo_client else \"Failed\",\n",
    "    \"Neo4j\": \"Connected\" if neo4j_driver else \"Failed\",\n",
    "    \"Qdrant\": \"Connected\" if qdrant_client else \"Failed\"\n",
    "}\n",
    "\n",
    "# Create a DataFrame for better display\n",
    "status_df = pd.DataFrame(list(connection_status.items()), columns=['Database', 'Status'])\n",
    "status_df"
   ]
  },
  {
   "cell_type": "code",
   "execution_count": null,
   "metadata": {},
   "source": [
    "# Visualize connection status\n",
    "plt.figure(figsize=(10, 6))\n",
    "colors = ['green' if status == 'Connected' else 'red' for status in status_df['Status']]\n",
    "plt.bar(status_df['Database'], [1] * len(status_df), color=colors)\n",
    "plt.title('Database Connection Status')\n",
    "plt.ylabel('Status')\n",
    "plt.yticks([])\n",
    "\n",
    "# Add status labels\n",
    "for i, status in enumerate(status_df['Status']):\n",
    "    plt.text(i, 0.5, status, ha='center', va='center', color='white', fontweight='bold')\n",
    "\n",
    "plt.tight_layout()\n",
    "plt.show()\n",
    "\n",
    "print(\"\\nTest completed at:\", datetime.now().strftime(\"%Y-%m-%d %H:%M:%S\"))"
   ]
  },
  {
   "cell_type": "markdown",
   "metadata": {},
   "source": [
    "## Cleanup\n",
    "\n",
    "Close all database connections properly before ending the session."
   ]
  },
  {
   "cell_type": "code",
   "execution_count": null,
   "metadata": {},
   "source": [
    "# Close MongoDB connection\n",
    "if mongo_client:\n",
    "    mongo_client.close()\n",
    "    print(\"MongoDB connection closed\")\n",
    "\n",
    "# Close Neo4j connection\n",
    "if neo4j_driver:\n",
    "    neo4j_driver.close()\n",
    "    print(\"Neo4j connection closed\")\n",
    "\n",
    "# Qdrant client doesn't require explicit closing\n",
    "print(\"All connections closed properly\")"
   ]
  }
 ],
 "metadata": {
  "kernelspec": {
   "display_name": "Python 3",
   "language": "python",
   "name": "python3"
  },
  "language_info": {
   "codemirror_mode": {
    "name": "ipython",
    "version": 3
   },
   "file_extension": ".py",
   "mimetype": "text/x-python",
   "name": "python",
   "nbconvert_exporter": "python",
   "pygments_lexer": "ipython3",
   "version": "3.10.11"
  }
 },
 "nbformat": 4,
 "nbformat_minor": 4
}
